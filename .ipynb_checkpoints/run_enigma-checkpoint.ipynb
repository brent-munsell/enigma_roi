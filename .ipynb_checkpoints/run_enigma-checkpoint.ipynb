{
 "cells": [
  {
   "cell_type": "code",
   "execution_count": 1,
   "metadata": {},
   "outputs": [],
   "source": [
    "from Model_Factory import Model_Factory\n",
    "from imblearn.pipeline import Pipeline\n",
    "from sklearn.model_selection import GridSearchCV, StratifiedKFold, cross_validate \n",
    "from joblib import dump, load\n",
    "import cross_validation, grid_search, manage_files, argparse, shutil\n",
    "import Constants as constants\n",
    "from enigma_data import enigma_data\n",
    "import pandas as pd\n",
    "from sklearn.compose import ColumnTransformer"
   ]
  },
  {
   "cell_type": "markdown",
   "metadata": {},
   "source": [
    "# Initialize input values \n",
    "\n",
    "+ __sdx__ := Sdx classifer (3,4,5,6,7,8)\n",
    "+ __egl__ := Engel classifier (0=No or 1=Yes)\n",
    "+ __hmz__ := Harmonize with neuroCombat (0=No or 1=Yes)\n",
    "+ __prm__ := Permutate training labels (0=No or 1=Yes)\n",
    "+ __grd__ := Peform grid-search (0=No or 1=Yes)\n",
    "+ __mdl__ := Classification model (DL or SV)\n",
    "+ __csv_opt__ := CSV file (all, AD, FA, MD, or RD)\n"
   ]
  },
  {
   "cell_type": "code",
   "execution_count": 2,
   "metadata": {},
   "outputs": [
    {
     "name": "stdout",
     "output_type": "stream",
     "text": [
      "sdx :3\n",
      "egl :0\n",
      "hmz :1\n",
      "prm :0\n",
      "grd :1\n",
      "mdl :sv\n",
      "csv_opt :all\n"
     ]
    }
   ],
   "source": [
    "root_folder = \"/Users/Kyuyeon/Desktop/kyu_csvs/\"\n",
    "\n",
    "mf = manage_files.ManageFiles(root_folder)"
   ]
  },
  {
   "cell_type": "markdown",
   "metadata": {},
   "source": [
    "###### Parse csv data file\n",
    "------------------------------------------------------------------------------\n",
    "+ Run this cell when __*egl == 0*__ \n",
    "+ data.parse() := preprocessing the data"
   ]
  },
  {
   "cell_type": "code",
   "execution_count": 3,
   "metadata": {},
   "outputs": [
    {
     "name": "stdout",
     "output_type": "stream",
     "text": [
      "Found classes: [3 0 4 1 2]\n"
     ]
    },
    {
     "name": "stderr",
     "output_type": "stream",
     "text": [
      "/Users/kyuyeon/opt/anaconda3/lib/python3.8/site-packages/pandas/core/indexing.py:671: SettingWithCopyWarning: \n",
      "A value is trying to be set on a copy of a slice from a DataFrame\n",
      "\n",
      "See the caveats in the documentation: https://pandas.pydata.org/pandas-docs/stable/user_guide/indexing.html#returning-a-view-versus-a-copy\n",
      "  self._setitem_with_indexer(indexer, value)\n"
     ]
    }
   ],
   "source": [
    "data = enigma_data( dfile=mf.csv_file, predict=mf.predict,predict_val = mf.predict_val, data_opt=mf.csv_opt )\n",
    "data = data.parse(balance=True)"
   ]
  },
  {
   "cell_type": "markdown",
   "metadata": {},
   "source": [
    "+ Run this cell when __*egl == 1*__ \n",
    "+ data.parse() := preprocessing the data"
   ]
  },
  {
   "cell_type": "code",
   "execution_count": null,
   "metadata": {},
   "outputs": [],
   "source": [
    "data = data.parse_engel()"
   ]
  },
  {
   "cell_type": "markdown",
   "metadata": {},
   "source": [
    "# Partition the data \n",
    "------------------------------------------------------------------------------\n",
    "+ __prm == 1__ := *random shuffle train data labels by permutating*  \n",
    "+ data.partition := splits the data and target data into training set and test set (training : 0.75 rate test:0.25 rate) [Spliting Data Tutorial](https://scikit-learn.org/stable/modules/generated/sklearn.model_selection.train_test_split.html)"
   ]
  },
  {
   "cell_type": "code",
   "execution_count": 4,
   "metadata": {},
   "outputs": [
    {
     "data": {
      "text/plain": [
       "1    187\n",
       "0    187\n",
       "Name: SDx, dtype: int64"
      ]
     },
     "execution_count": 4,
     "metadata": {},
     "output_type": "execute_result"
    }
   ],
   "source": [
    "data.getFrame()[\"SDx\"].value_counts()"
   ]
  },
  {
   "cell_type": "code",
   "execution_count": 5,
   "metadata": {
    "scrolled": true
   },
   "outputs": [
    {
     "name": "stdout",
     "output_type": "stream",
     "text": [
      "      L_LatVent  R_LatVent  L_thal  R_thal  L_caud  R_caud   L_put   R_put  \\\n",
      "1212     6648.7     7346.4  8466.7  8231.2  4592.9  4633.5  7361.3  7418.9   \n",
      "1798     2473.0     2288.0  5969.0  7161.0  2296.0  2378.0  4908.0  4529.0   \n",
      "870      5467.4     4432.5  6365.8  6370.8  3420.1  3541.4  4943.1  5186.0   \n",
      "120      4312.0     3634.0  7478.0  6865.0  3405.0  3397.0  4511.0  4345.0   \n",
      "1904     4218.0     2788.0  6372.0  6122.0  3586.0  3443.0  6349.0  6261.0   \n",
      "...         ...        ...     ...     ...     ...     ...     ...     ...   \n",
      "307      7144.6     6109.4  7574.7  6577.0  3670.1  3865.1  4901.1  5538.9   \n",
      "1918    19656.0    12937.0  8285.0  7590.0  3782.0  3935.0  6859.0  6554.0   \n",
      "1697     7047.0     4373.0  6940.0  8172.0  3441.0  3308.0  5382.0  5563.0   \n",
      "1933     4746.0     4286.0  8108.0  7039.0  3447.0  3695.0  5762.0  5695.0   \n",
      "155      2673.0     3205.3  7740.2  7612.4  3781.2  3303.0  5015.2  4933.3   \n",
      "\n",
      "       L_pal   R_pal  ...  R_rostralmiddlefrontal_surfavg  \\\n",
      "1212  1547.5  1876.8  ...                          6159.0   \n",
      "1798  1644.0  1093.0  ...                          4137.0   \n",
      "870   1277.5  1465.4  ...                          4362.0   \n",
      "120   1577.0  1415.0  ...                          5691.0   \n",
      "1904  1862.0  1795.0  ...                          6283.0   \n",
      "...      ...     ...  ...                             ...   \n",
      "307   1551.5  1601.7  ...                          5828.0   \n",
      "1918  2157.0  1991.0  ...                          6758.0   \n",
      "1697  1545.0  1336.0  ...                          6147.0   \n",
      "1933  1411.0  1714.0  ...                          6682.0   \n",
      "155   1562.4  1324.3  ...                          4969.0   \n",
      "\n",
      "      R_superiorfrontal_surfavg  R_superiorparietal_surfavg  \\\n",
      "1212                     7534.0                      5344.0   \n",
      "1798                     5454.0                      4873.0   \n",
      "870                      5657.0                      4732.0   \n",
      "120                      6155.0                      5165.0   \n",
      "1904                     7179.0                      5564.0   \n",
      "...                         ...                         ...   \n",
      "307                      6105.0                      5088.0   \n",
      "1918                     6831.0                      5664.0   \n",
      "1697                     7479.0                      5842.0   \n",
      "1933                     7740.0                      4974.0   \n",
      "155                      6636.0                      5455.0   \n",
      "\n",
      "      R_superiortemporal_surfavg  R_supramarginal_surfavg  \\\n",
      "1212                      3876.0                   4748.0   \n",
      "1798                      3020.0                   3292.0   \n",
      "870                       3006.0                   2776.0   \n",
      "120                       3159.0                   2749.0   \n",
      "1904                      3712.0                   5125.0   \n",
      "...                          ...                      ...   \n",
      "307                       3097.0                   3738.0   \n",
      "1918                      3488.0                   3893.0   \n",
      "1697                      3731.0                   3799.0   \n",
      "1933                      3301.0                   4077.0   \n",
      "155                       3822.0                   3907.0   \n",
      "\n",
      "      R_frontalpole_surfavg  R_temporalpole_surfavg  \\\n",
      "1212                  263.0                   489.0   \n",
      "1798                  251.0                   270.0   \n",
      "870                   252.0                   296.0   \n",
      "120                   294.0                   410.0   \n",
      "1904                  280.0                   440.0   \n",
      "...                     ...                     ...   \n",
      "307                   269.0                   442.0   \n",
      "1918                  278.0                   448.0   \n",
      "1697                  286.0                   422.0   \n",
      "1933                  303.0                   479.0   \n",
      "155                   310.0                   310.0   \n",
      "\n",
      "      R_transversetemporal_surfavg  R_insula_surfavg  index  \n",
      "1212                         361.0            2216.0      0  \n",
      "1798                         289.0            1741.0      1  \n",
      "870                          301.0            1901.0      2  \n",
      "120                          296.0            1992.0      3  \n",
      "1904                         327.0            2166.0      4  \n",
      "...                            ...               ...    ...  \n",
      "307                          293.0            2118.0    243  \n",
      "1918                         363.0            2490.0    244  \n",
      "1697                         349.0            2189.0    245  \n",
      "1933                         301.0            2694.0    246  \n",
      "155                          349.0            2140.0    247  \n",
      "\n",
      "[248 rows x 153 columns]\n",
      "1212    0\n",
      "1798    1\n",
      "870     1\n",
      "120     1\n",
      "1904    1\n",
      "       ..\n",
      "307     1\n",
      "1918    0\n",
      "1697    1\n",
      "1933    0\n",
      "155     1\n",
      "Name: SDx, Length: 248, dtype: int64\n",
      "1    129\n",
      "0    119\n",
      "Name: SDx, dtype: int64\n"
     ]
    },
    {
     "name": "stderr",
     "output_type": "stream",
     "text": [
      "/Users/kyuyeon/opt/anaconda3/lib/python3.8/site-packages/pandas/core/frame.py:2963: SettingWithCopyWarning: \n",
      "A value is trying to be set on a copy of a slice from a DataFrame.\n",
      "Try using .loc[row_indexer,col_indexer] = value instead\n",
      "\n",
      "See the caveats in the documentation: https://pandas.pydata.org/pandas-docs/stable/user_guide/indexing.html#returning-a-view-versus-a-copy\n",
      "  self[k1] = value[k2]\n",
      "/Users/kyuyeon/Desktop/kyu/Research_Kyu/enigma_data.py:106: SettingWithCopyWarning: \n",
      "A value is trying to be set on a copy of a slice from a DataFrame.\n",
      "Try using .loc[row_indexer,col_indexer] = value instead\n",
      "\n",
      "See the caveats in the documentation: https://pandas.pydata.org/pandas-docs/stable/user_guide/indexing.html#returning-a-view-versus-a-copy\n",
      "  train[\"Site\"] = train[\"Site\"].astype(int)\n",
      "/Users/kyuyeon/Desktop/kyu/Research_Kyu/enigma_data.py:107: SettingWithCopyWarning: \n",
      "A value is trying to be set on a copy of a slice from a DataFrame.\n",
      "Try using .loc[row_indexer,col_indexer] = value instead\n",
      "\n",
      "See the caveats in the documentation: https://pandas.pydata.org/pandas-docs/stable/user_guide/indexing.html#returning-a-view-versus-a-copy\n",
      "  train[self.predict] = train[self.predict].astype(int)\n"
     ]
    }
   ],
   "source": [
    "ttv_dict = data.partition( perm_train_labels=bool( mf.prm ) )\n",
    "\n",
    "covars_Site = pd.DataFrame(ttv_dict[\"Covars_train\"][\"Site\"])\n",
    "covars_Sex = pd.DataFrame(ttv_dict[\"Covars_train\"][\"Sex\"])\n",
    "covars_Age = pd.DataFrame(ttv_dict[\"Covars_train\"][\"Age\"])"
   ]
  },
  {
   "cell_type": "markdown",
   "metadata": {},
   "source": [
    "# Define the pipeline, cross-validation, and scoring metrics\n",
    "-------------------------------------------------------------------------------------------\n",
    "+ scoring := evaluating as __*accuracy*__ named as \"Accuracy\"\n",
    "+ kfold := [StratifiedKFold](https://scikit-learn.org/stable/modules/generated/sklearn.model_selection.StratifiedKFold.html) __*uniformly distributes*__ labels into test and training data K times\n",
    "+ factory := Define a __*model factory*__ object\n",
    "- scaler_model := building [MinMaxScaler](https://scikit-learn.org/stable/modules/generated/sklearn.preprocessing.MinMaxScaler.html) scaler model\n",
    "- imbalance_model := overcoming imbalanced data by __*oversampling*__\n"
   ]
  },
  {
   "cell_type": "code",
   "execution_count": 6,
   "metadata": {},
   "outputs": [],
   "source": [
    "scoring = {\"Accuracy\": \"accuracy\"}\n",
    "kfold = StratifiedKFold( n_splits=constants.CV_FOLDS, shuffle=True)\n",
    "factory = Model_Factory()\n",
    "\n",
    "scaler_model = factory.build( model_type=constants.MODELS.SCALER )\n",
    "imbalance_model = factory.build( model_type=constants.MODELS.IMBALANCE )\n",
    "neurocombat_model = factory.build( model_type=constants.MODELS.NEUROCOMBAT, data=data,sites= covars_Site, discrete_covariates=covars_Sex,continuous_covariates=covars_Age)\n",
    "\n",
    "column_trans = ColumnTransformer(\n",
    "     [('scaler', scaler_model,ttv_dict[\"X_train\"].columns.values[0:-1])],\n",
    "         remainder='passthrough')"
   ]
  },
  {
   "cell_type": "markdown",
   "metadata": {},
   "source": [
    "# Performing grid search to find the optimal parameter for each ML model\n",
    "#### Error occurs by perfomring grid search with permutated class labels (prm ==1)\n",
    "---------------------------------------------------------------------------------------\n",
    "### Run this Cell For SV model\n",
    "+ Building a __Support Vector Machine Model__ for *Grid-Search*"
   ]
  },
  {
   "cell_type": "code",
   "execution_count": 7,
   "metadata": {},
   "outputs": [],
   "source": [
    "cls_model = factory.build( model_type=constants.MODELS.SV_CLASSIFY, C=1.0, max_iter=10000 )"
   ]
  },
  {
   "cell_type": "markdown",
   "metadata": {},
   "source": [
    "### Run this Cell For DL model\n",
    "+ Building a __Deep Learning Model__ for *Grid_Search*"
   ]
  },
  {
   "cell_type": "code",
   "execution_count": null,
   "metadata": {},
   "outputs": [],
   "source": [
    "cls_model = factory.build( model_type=constants.MODELS.DL_CLASSIFY, input_dimension=ttv_dict['X_train'].shape[1],\n",
    "                          checkpoint_folder=mf.chpt_folder, checkpoint_file=\"{val_accuracy:.5f}.hdf5\", \n",
    "                          learn_rate=0.1, epochs=150, batch_size=20, verbose=0 )"
   ]
  },
  {
   "cell_type": "markdown",
   "metadata": {},
   "source": [
    "### Grid Search with Machine Learning Model (SV or DL)\n",
    "+ [Pipeline](https://scikit-learn.org/stable/modules/generated/sklearn.pipeline.Pipeline.html) := The purpose of the pipeline is to assemble several steps that can be cross-validated together while setting different parameters. \n",
    "+ [GridSearchCV](https://scikit-learn.org/stable/modules/generated/sklearn.model_selection.GridSearchCV.html) := Process of finding the optimal parameter for given classifier model"
   ]
  },
  {
   "cell_type": "code",
   "execution_count": 8,
   "metadata": {
    "scrolled": false
   },
   "outputs": [
    {
     "name": "stdout",
     "output_type": "stream",
     "text": [
      "Fitting 10 folds for each of 9 candidates, totalling 90 fits\n",
      "[CV] classifier__C=0.1 ...............................................\n",
      "[CV] ................ classifier__C=0.1, Accuracy=0.800, total=   0.1s\n",
      "[CV] classifier__C=0.1 ...............................................\n",
      "[CV] ................ classifier__C=0.1, Accuracy=0.680, total=   0.0s\n",
      "[CV] classifier__C=0.1 ...............................................\n",
      "[CV] ................ classifier__C=0.1, Accuracy=0.720, total=   0.0s\n",
      "[CV] classifier__C=0.1 ...............................................\n",
      "[CV] ................ classifier__C=0.1, Accuracy=0.560, total=   0.0s\n",
      "[CV] classifier__C=0.1 ...............................................\n"
     ]
    },
    {
     "name": "stderr",
     "output_type": "stream",
     "text": [
      "[Parallel(n_jobs=1)]: Using backend SequentialBackend with 1 concurrent workers.\n",
      "[Parallel(n_jobs=1)]: Done   1 out of   1 | elapsed:    0.1s remaining:    0.0s\n",
      "[Parallel(n_jobs=1)]: Done   2 out of   2 | elapsed:    0.1s remaining:    0.0s\n",
      "[Parallel(n_jobs=1)]: Done   3 out of   3 | elapsed:    0.1s remaining:    0.0s\n",
      "[Parallel(n_jobs=1)]: Done   4 out of   4 | elapsed:    0.2s remaining:    0.0s\n"
     ]
    },
    {
     "name": "stdout",
     "output_type": "stream",
     "text": [
      "[CV] ................ classifier__C=0.1, Accuracy=0.600, total=   0.0s\n",
      "[CV] classifier__C=0.1 ...............................................\n",
      "[CV] ................ classifier__C=0.1, Accuracy=0.760, total=   0.0s\n",
      "[CV] classifier__C=0.1 ...............................................\n",
      "[CV] ................ classifier__C=0.1, Accuracy=0.600, total=   0.0s\n",
      "[CV] classifier__C=0.1 ...............................................\n",
      "[CV] ................ classifier__C=0.1, Accuracy=0.840, total=   0.0s\n",
      "[CV] classifier__C=0.1 ...............................................\n",
      "[CV] ................ classifier__C=0.1, Accuracy=0.833, total=   0.0s\n",
      "[CV] classifier__C=0.1 ...............................................\n"
     ]
    },
    {
     "name": "stderr",
     "output_type": "stream",
     "text": [
      "[Parallel(n_jobs=1)]: Done   5 out of   5 | elapsed:    0.2s remaining:    0.0s\n",
      "[Parallel(n_jobs=1)]: Done   6 out of   6 | elapsed:    0.3s remaining:    0.0s\n",
      "[Parallel(n_jobs=1)]: Done   7 out of   7 | elapsed:    0.3s remaining:    0.0s\n",
      "[Parallel(n_jobs=1)]: Done   8 out of   8 | elapsed:    0.4s remaining:    0.0s\n",
      "[Parallel(n_jobs=1)]: Done   9 out of   9 | elapsed:    0.4s remaining:    0.0s\n"
     ]
    },
    {
     "name": "stdout",
     "output_type": "stream",
     "text": [
      "[CV] ................ classifier__C=0.1, Accuracy=0.542, total=   0.0s\n",
      "[CV] classifier__C=0.25 ..............................................\n",
      "[CV] ............... classifier__C=0.25, Accuracy=0.760, total=   0.1s\n",
      "[CV] classifier__C=0.25 ..............................................\n",
      "[CV] ............... classifier__C=0.25, Accuracy=0.600, total=   0.0s\n",
      "[CV] classifier__C=0.25 ..............................................\n",
      "[CV] ............... classifier__C=0.25, Accuracy=0.760, total=   0.0s\n",
      "[CV] classifier__C=0.25 ..............................................\n",
      "[CV] ............... classifier__C=0.25, Accuracy=0.480, total=   0.0s\n",
      "[CV] classifier__C=0.25 ..............................................\n",
      "[CV] ............... classifier__C=0.25, Accuracy=0.640, total=   0.0s\n",
      "[CV] classifier__C=0.25 ..............................................\n",
      "[CV] ............... classifier__C=0.25, Accuracy=0.720, total=   0.0s\n",
      "[CV] classifier__C=0.25 ..............................................\n",
      "[CV] ............... classifier__C=0.25, Accuracy=0.600, total=   0.0s\n",
      "[CV] classifier__C=0.25 ..............................................\n",
      "[CV] ............... classifier__C=0.25, Accuracy=0.840, total=   0.0s\n",
      "[CV] classifier__C=0.25 ..............................................\n",
      "[CV] ............... classifier__C=0.25, Accuracy=0.750, total=   0.1s\n",
      "[CV] classifier__C=0.25 ..............................................\n",
      "[CV] ............... classifier__C=0.25, Accuracy=0.500, total=   0.1s\n",
      "[CV] classifier__C=0.5 ...............................................\n",
      "[CV] ................ classifier__C=0.5, Accuracy=0.720, total=   0.1s\n",
      "[CV] classifier__C=0.5 ...............................................\n",
      "[CV] ................ classifier__C=0.5, Accuracy=0.600, total=   0.1s\n",
      "[CV] classifier__C=0.5 ...............................................\n",
      "[CV] ................ classifier__C=0.5, Accuracy=0.800, total=   0.1s\n",
      "[CV] classifier__C=0.5 ...............................................\n",
      "[CV] ................ classifier__C=0.5, Accuracy=0.480, total=   0.1s\n",
      "[CV] classifier__C=0.5 ...............................................\n",
      "[CV] ................ classifier__C=0.5, Accuracy=0.680, total=   0.1s\n",
      "[CV] classifier__C=0.5 ...............................................\n",
      "[CV] ................ classifier__C=0.5, Accuracy=0.720, total=   0.1s\n",
      "[CV] classifier__C=0.5 ...............................................\n",
      "[CV] ................ classifier__C=0.5, Accuracy=0.560, total=   0.1s\n",
      "[CV] classifier__C=0.5 ...............................................\n",
      "[CV] ................ classifier__C=0.5, Accuracy=0.840, total=   0.1s\n",
      "[CV] classifier__C=0.5 ...............................................\n",
      "[CV] ................ classifier__C=0.5, Accuracy=0.750, total=   0.1s\n",
      "[CV] classifier__C=0.5 ...............................................\n",
      "[CV] ................ classifier__C=0.5, Accuracy=0.500, total=   0.1s\n",
      "[CV] classifier__C=0.7 ...............................................\n",
      "[CV] ................ classifier__C=0.7, Accuracy=0.720, total=   0.1s\n",
      "[CV] classifier__C=0.7 ...............................................\n",
      "[CV] ................ classifier__C=0.7, Accuracy=0.600, total=   0.1s\n",
      "[CV] classifier__C=0.7 ...............................................\n",
      "[CV] ................ classifier__C=0.7, Accuracy=0.760, total=   0.1s\n",
      "[CV] classifier__C=0.7 ...............................................\n",
      "[CV] ................ classifier__C=0.7, Accuracy=0.440, total=   0.1s\n",
      "[CV] classifier__C=0.7 ...............................................\n",
      "[CV] ................ classifier__C=0.7, Accuracy=0.680, total=   0.1s\n",
      "[CV] classifier__C=0.7 ...............................................\n",
      "[CV] ................ classifier__C=0.7, Accuracy=0.760, total=   0.1s\n",
      "[CV] classifier__C=0.7 ...............................................\n",
      "[CV] ................ classifier__C=0.7, Accuracy=0.520, total=   0.1s\n",
      "[CV] classifier__C=0.7 ...............................................\n",
      "[CV] ................ classifier__C=0.7, Accuracy=0.840, total=   0.1s\n",
      "[CV] classifier__C=0.7 ...............................................\n",
      "[CV] ................ classifier__C=0.7, Accuracy=0.750, total=   0.1s\n",
      "[CV] classifier__C=0.7 ...............................................\n",
      "[CV] ................ classifier__C=0.7, Accuracy=0.500, total=   0.1s\n",
      "[CV] classifier__C=0.9 ...............................................\n",
      "[CV] ................ classifier__C=0.9, Accuracy=0.720, total=   0.1s\n",
      "[CV] classifier__C=0.9 ...............................................\n",
      "[CV] ................ classifier__C=0.9, Accuracy=0.640, total=   0.1s\n",
      "[CV] classifier__C=0.9 ...............................................\n",
      "[CV] ................ classifier__C=0.9, Accuracy=0.760, total=   0.1s\n",
      "[CV] classifier__C=0.9 ...............................................\n",
      "[CV] ................ classifier__C=0.9, Accuracy=0.440, total=   0.1s\n",
      "[CV] classifier__C=0.9 ...............................................\n",
      "[CV] ................ classifier__C=0.9, Accuracy=0.600, total=   0.1s\n",
      "[CV] classifier__C=0.9 ...............................................\n",
      "[CV] ................ classifier__C=0.9, Accuracy=0.760, total=   0.1s\n",
      "[CV] classifier__C=0.9 ...............................................\n",
      "[CV] ................ classifier__C=0.9, Accuracy=0.520, total=   0.1s\n",
      "[CV] classifier__C=0.9 ...............................................\n",
      "[CV] ................ classifier__C=0.9, Accuracy=0.800, total=   0.1s\n",
      "[CV] classifier__C=0.9 ...............................................\n",
      "[CV] ................ classifier__C=0.9, Accuracy=0.750, total=   0.1s\n",
      "[CV] classifier__C=0.9 ...............................................\n",
      "[CV] ................ classifier__C=0.9, Accuracy=0.500, total=   0.1s\n",
      "[CV] classifier__C=1.0 ...............................................\n",
      "[CV] ................ classifier__C=1.0, Accuracy=0.720, total=   0.1s\n",
      "[CV] classifier__C=1.0 ...............................................\n",
      "[CV] ................ classifier__C=1.0, Accuracy=0.680, total=   0.1s\n",
      "[CV] classifier__C=1.0 ...............................................\n",
      "[CV] ................ classifier__C=1.0, Accuracy=0.760, total=   0.1s\n",
      "[CV] classifier__C=1.0 ...............................................\n",
      "[CV] ................ classifier__C=1.0, Accuracy=0.440, total=   0.1s\n",
      "[CV] classifier__C=1.0 ...............................................\n",
      "[CV] ................ classifier__C=1.0, Accuracy=0.680, total=   0.1s\n",
      "[CV] classifier__C=1.0 ...............................................\n",
      "[CV] ................ classifier__C=1.0, Accuracy=0.760, total=   0.1s\n",
      "[CV] classifier__C=1.0 ...............................................\n",
      "[CV] ................ classifier__C=1.0, Accuracy=0.520, total=   0.1s\n",
      "[CV] classifier__C=1.0 ...............................................\n",
      "[CV] ................ classifier__C=1.0, Accuracy=0.840, total=   0.1s\n",
      "[CV] classifier__C=1.0 ...............................................\n",
      "[CV] ................ classifier__C=1.0, Accuracy=0.708, total=   0.1s\n",
      "[CV] classifier__C=1.0 ...............................................\n",
      "[CV] ................ classifier__C=1.0, Accuracy=0.542, total=   0.1s\n",
      "[CV] classifier__C=1.1 ...............................................\n",
      "[CV] ................ classifier__C=1.1, Accuracy=0.680, total=   0.1s\n",
      "[CV] classifier__C=1.1 ...............................................\n",
      "[CV] ................ classifier__C=1.1, Accuracy=0.680, total=   0.1s\n",
      "[CV] classifier__C=1.1 ...............................................\n",
      "[CV] ................ classifier__C=1.1, Accuracy=0.760, total=   0.1s\n",
      "[CV] classifier__C=1.1 ...............................................\n",
      "[CV] ................ classifier__C=1.1, Accuracy=0.440, total=   0.1s\n",
      "[CV] classifier__C=1.1 ...............................................\n",
      "[CV] ................ classifier__C=1.1, Accuracy=0.680, total=   0.1s\n",
      "[CV] classifier__C=1.1 ...............................................\n",
      "[CV] ................ classifier__C=1.1, Accuracy=0.760, total=   0.1s\n",
      "[CV] classifier__C=1.1 ...............................................\n",
      "[CV] ................ classifier__C=1.1, Accuracy=0.520, total=   0.1s\n",
      "[CV] classifier__C=1.1 ...............................................\n"
     ]
    },
    {
     "name": "stdout",
     "output_type": "stream",
     "text": [
      "[CV] ................ classifier__C=1.1, Accuracy=0.840, total=   0.1s\n",
      "[CV] classifier__C=1.1 ...............................................\n",
      "[CV] ................ classifier__C=1.1, Accuracy=0.708, total=   0.1s\n",
      "[CV] classifier__C=1.1 ...............................................\n",
      "[CV] ................ classifier__C=1.1, Accuracy=0.542, total=   0.1s\n",
      "[CV] classifier__C=1.5 ...............................................\n",
      "[CV] ................ classifier__C=1.5, Accuracy=0.640, total=   0.1s\n",
      "[CV] classifier__C=1.5 ...............................................\n",
      "[CV] ................ classifier__C=1.5, Accuracy=0.640, total=   0.1s\n",
      "[CV] classifier__C=1.5 ...............................................\n",
      "[CV] ................ classifier__C=1.5, Accuracy=0.760, total=   0.1s\n",
      "[CV] classifier__C=1.5 ...............................................\n",
      "[CV] ................ classifier__C=1.5, Accuracy=0.480, total=   0.1s\n",
      "[CV] classifier__C=1.5 ...............................................\n",
      "[CV] ................ classifier__C=1.5, Accuracy=0.680, total=   0.1s\n",
      "[CV] classifier__C=1.5 ...............................................\n",
      "[CV] ................ classifier__C=1.5, Accuracy=0.760, total=   0.1s\n",
      "[CV] classifier__C=1.5 ...............................................\n",
      "[CV] ................ classifier__C=1.5, Accuracy=0.480, total=   0.1s\n",
      "[CV] classifier__C=1.5 ...............................................\n",
      "[CV] ................ classifier__C=1.5, Accuracy=0.840, total=   0.1s\n",
      "[CV] classifier__C=1.5 ...............................................\n",
      "[CV] ................ classifier__C=1.5, Accuracy=0.708, total=   0.2s\n",
      "[CV] classifier__C=1.5 ...............................................\n",
      "[CV] ................ classifier__C=1.5, Accuracy=0.542, total=   0.2s\n",
      "[CV] classifier__C=2.0 ...............................................\n",
      "[CV] ................ classifier__C=2.0, Accuracy=0.560, total=   0.1s\n",
      "[CV] classifier__C=2.0 ...............................................\n",
      "[CV] ................ classifier__C=2.0, Accuracy=0.680, total=   0.1s\n",
      "[CV] classifier__C=2.0 ...............................................\n",
      "[CV] ................ classifier__C=2.0, Accuracy=0.760, total=   0.1s\n",
      "[CV] classifier__C=2.0 ...............................................\n",
      "[CV] ................ classifier__C=2.0, Accuracy=0.480, total=   0.1s\n",
      "[CV] classifier__C=2.0 ...............................................\n",
      "[CV] ................ classifier__C=2.0, Accuracy=0.680, total=   0.1s\n",
      "[CV] classifier__C=2.0 ...............................................\n",
      "[CV] ................ classifier__C=2.0, Accuracy=0.760, total=   0.1s\n",
      "[CV] classifier__C=2.0 ...............................................\n",
      "[CV] ................ classifier__C=2.0, Accuracy=0.480, total=   0.1s\n",
      "[CV] classifier__C=2.0 ...............................................\n",
      "[CV] ................ classifier__C=2.0, Accuracy=0.880, total=   0.1s\n",
      "[CV] classifier__C=2.0 ...............................................\n",
      "[CV] ................ classifier__C=2.0, Accuracy=0.708, total=   0.1s\n",
      "[CV] classifier__C=2.0 ...............................................\n",
      "[CV] ................ classifier__C=2.0, Accuracy=0.500, total=   0.1s\n"
     ]
    },
    {
     "name": "stderr",
     "output_type": "stream",
     "text": [
      "[Parallel(n_jobs=1)]: Done  90 out of  90 | elapsed:    8.1s finished\n"
     ]
    }
   ],
   "source": [
    "pipeline = Pipeline( [('scaler', column_trans ), ('neurocombat', neurocombat_model), ('classifier', cls_model ) ], memory=None )\n",
    "\n",
    "grid = GridSearchCV( estimator=pipeline, param_grid=cls_model.get_grid_dict(), cv=kfold, scoring=scoring, refit=\"Accuracy\", verbose=10 )\n",
    "\n",
    "\n",
    "grid_result = grid.fit( ttv_dict['X_train'],ttv_dict['Y_train'])\n",
    "\n",
    "gdr_dict = grid_search.GridSearch( cls_model, grid_result ).gdr_dict"
   ]
  },
  {
   "cell_type": "markdown",
   "metadata": {},
   "source": [
    "### Dump gdr_dict into grid_result_file\n",
    "--------------------------------------------------------\n",
    "+ grid_result_file stores the optimal parameters from grid search with cross validation\n",
    "+ __gdr_dict__ := storing the optimal parameters from grid searching"
   ]
  },
  {
   "cell_type": "code",
   "execution_count": 9,
   "metadata": {},
   "outputs": [
    {
     "data": {
      "text/plain": [
       "0.6935"
      ]
     },
     "execution_count": 9,
     "metadata": {},
     "output_type": "execute_result"
    }
   ],
   "source": [
    "grid.best_score_          "
   ]
  },
  {
   "cell_type": "code",
   "execution_count": null,
   "metadata": {},
   "outputs": [],
   "source": [
    "dump( gdr_dict, mf.grid_result_file ) \n",
    "\n",
    "load ( mf.grid_result_file )"
   ]
  },
  {
   "cell_type": "markdown",
   "metadata": {},
   "source": [
    "# Performing cross-validation when optimal parameters already exists\n",
    "--------------------------------------------------------------------------------------\n",
    "### Load an existing file storing the optimal parameter"
   ]
  },
  {
   "cell_type": "code",
   "execution_count": null,
   "metadata": {},
   "outputs": [],
   "source": [
    "gdr_dict = load( mf.grid_result_file )"
   ]
  },
  {
   "cell_type": "markdown",
   "metadata": {},
   "source": [
    "### Run this cell for SV model\n",
    "+ Building a __Support Vector Machine Model__ for *Cross-Validation*"
   ]
  },
  {
   "cell_type": "code",
   "execution_count": null,
   "metadata": {},
   "outputs": [],
   "source": [
    "cls_model = factory.build( model_type=constants.MODELS.SV_CLASSIFY, C=gdr_dict['classifier__C'], max_iter=10000 )"
   ]
  },
  {
   "cell_type": "markdown",
   "metadata": {},
   "source": [
    "### Run this cell for DL model\n",
    "+ Building a __Deep Learning Model__ for *Cross-Validation*"
   ]
  },
  {
   "cell_type": "code",
   "execution_count": null,
   "metadata": {
    "scrolled": true
   },
   "outputs": [],
   "source": [
    "cls_model = factory.build( model_type=constants.MODELS.DL_CLASSIFY, input_dimension=ttv_dict['X_train'].shape[1], checkpoint_folder=mf.chpt_folder, checkpoint_file=\"{val_accuracy:.5f}.hdf5\", learn_rate=gdr_dict['classifier__learn_rate'], hidden_units_L1=gdr_dict['classifier__hidden_units_L1'], hidden_units_L2=gdr_dict['classifier__hidden_units_L2'], l2_reg_penalty=gdr_dict['classifier__l2_reg_penalty'], drop_out_rate=gdr_dict['classifier__drop_out_rate'], epochs=gdr_dict['classifier__epochs'], batch_size=20, verbose=0 )"
   ]
  },
  {
   "cell_type": "markdown",
   "metadata": {},
   "source": [
    "### Cross-Validation with Machine Learning Model (SV or DL)\n",
    "+ [Pipeline](https://scikit-learn.org/stable/modules/generated/sklearn.pipeline.Pipeline.html) := The purpose of the pipeline is to assemble several steps that can be cross-validated together while setting different parameters. \n",
    "+ [cross_validate](https://scikit-learn.org/stable/modules/generated/sklearn.model_selection.cross_validate.html) := performing cross validation kfold times based on classifider model that defined on Pipeline function."
   ]
  },
  {
   "cell_type": "code",
   "execution_count": null,
   "metadata": {},
   "outputs": [],
   "source": [
    "pipeline = Pipeline( [ ('scaler', column_trans ),('neurocombat',neurocombat_model ),('classifier', cls_model ) ], memory=None )\n",
    "\n",
    "cv_result = cross_validate( pipeline, ttv_dict['X_train'], ttv_dict['Y_train'], cv=kfold, scoring=scoring, return_estimator=True, verbose=2 )\n",
    "\n",
    "result_dict = {}\n",
    "\n",
    "result_dict['features'] = ttv_dict['X_train'].columns\n",
    "\n",
    "result_dict[\"iteration\"] = cross_validation.CrossValidation(ttv_dict, cv_result, constants.CV_FOLDS).iteration\n",
    "\n",
    "dump( result_dict, mf.arch_file )  "
   ]
  }
 ],
 "metadata": {
  "kernelspec": {
   "display_name": "Python 3",
   "language": "python",
   "name": "python3"
  },
  "language_info": {
   "codemirror_mode": {
    "name": "ipython",
    "version": 3
   },
   "file_extension": ".py",
   "mimetype": "text/x-python",
   "name": "python",
   "nbconvert_exporter": "python",
   "pygments_lexer": "ipython3",
   "version": "3.8.3"
  }
 },
 "nbformat": 4,
 "nbformat_minor": 4
}
