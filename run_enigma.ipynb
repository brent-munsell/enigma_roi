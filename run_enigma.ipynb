{
 "cells": [
  {
   "cell_type": "code",
   "execution_count": 1,
   "metadata": {},
   "outputs": [],
   "source": [
    "from Model_Factory import Model_Factory\n",
    "from imblearn.pipeline import Pipeline\n",
    "from sklearn.model_selection import GridSearchCV, StratifiedKFold, cross_validate \n",
    "from joblib import dump, load\n",
    "import cross_validation, grid_search, manage_files, argparse, shutil\n",
    "import Constants as constants\n",
    "from enigma_data import enigma_data\n",
    "import pandas as pd\n",
    "from sklearn.compose import ColumnTransformer"
   ]
  },
  {
   "cell_type": "markdown",
   "metadata": {},
   "source": [
    "# Initialize input values \n",
    "\n",
    "+ __sdx__ := Sdx classifer (3,4,5,6,7,8)\n",
    "+ __egl__ := Engel classifier (0=No or 1=Yes)\n",
    "+ __hmz__ := Harmonize with neuroCombat (0=No or 1=Yes)\n",
    "+ __prm__ := Permutate training labels (0=No or 1=Yes)\n",
    "+ __grd__ := Peform grid-search (0=No or 1=Yes)\n",
    "+ __mdl__ := Classification model (DL or SV)\n",
    "+ __csv_opt__ := CSV file (all, AD, FA, MD, or RD)\n"
   ]
  },
  {
   "cell_type": "code",
   "execution_count": 2,
   "metadata": {},
   "outputs": [
    {
     "name": "stdout",
     "output_type": "stream",
     "text": [
      "sdx :3\n",
      "egl :0\n",
      "hmz :1\n",
      "prm :0\n",
      "grd :1\n",
      "mdl :sv\n",
      "csv_opt :all\n"
     ]
    }
   ],
   "source": [
    "root_folder = \"/Users/Kyuyeon/Desktop/kyu_csvs/\"\n",
    "\n",
    "mf = manage_files.ManageFiles(root_folder)"
   ]
  },
  {
   "cell_type": "markdown",
   "metadata": {},
   "source": [
    "###### Parse csv data file\n",
    "------------------------------------------------------------------------------\n",
    "+ Run this cell when __*egl == 0*__ \n",
    "+ data.parse() := preprocessing the data"
   ]
  },
  {
   "cell_type": "code",
   "execution_count": 3,
   "metadata": {},
   "outputs": [
    {
     "name": "stdout",
     "output_type": "stream",
     "text": [
      "Found classes: [3 0 4 1 2]\n"
     ]
    },
    {
     "name": "stderr",
     "output_type": "stream",
     "text": [
      "/Users/kyuyeon/opt/anaconda3/lib/python3.8/site-packages/pandas/core/indexing.py:671: SettingWithCopyWarning: \n",
      "A value is trying to be set on a copy of a slice from a DataFrame\n",
      "\n",
      "See the caveats in the documentation: https://pandas.pydata.org/pandas-docs/stable/user_guide/indexing.html#returning-a-view-versus-a-copy\n",
      "  self._setitem_with_indexer(indexer, value)\n"
     ]
    }
   ],
   "source": [
    "data = enigma_data( dfile=mf.csv_file, predict=mf.predict,predict_val = mf.predict_val, data_opt=mf.csv_opt )\n",
    "data = data.parse(balance=True)"
   ]
  },
  {
   "cell_type": "markdown",
   "metadata": {},
   "source": [
    "+ Run this cell when __*egl == 1*__ \n",
    "+ data.parse() := preprocessing the data"
   ]
  },
  {
   "cell_type": "code",
   "execution_count": 4,
   "metadata": {},
   "outputs": [
    {
     "ename": "ValueError",
     "evalue": "list.remove(x): x not in list",
     "output_type": "error",
     "traceback": [
      "\u001b[0;31m---------------------------------------------------------------------------\u001b[0m",
      "\u001b[0;31mValueError\u001b[0m                                Traceback (most recent call last)",
      "\u001b[0;32m<ipython-input-4-6612232a2bfb>\u001b[0m in \u001b[0;36m<module>\u001b[0;34m\u001b[0m\n\u001b[0;32m----> 1\u001b[0;31m \u001b[0mdata\u001b[0m \u001b[0;34m=\u001b[0m \u001b[0mdata\u001b[0m\u001b[0;34m.\u001b[0m\u001b[0mparse_engel\u001b[0m\u001b[0;34m(\u001b[0m\u001b[0;34m)\u001b[0m\u001b[0;34m\u001b[0m\u001b[0;34m\u001b[0m\u001b[0m\n\u001b[0m",
      "\u001b[0;32m~/Desktop/kyu/Research_Kyu/enigma_data.py\u001b[0m in \u001b[0;36mparse_engel\u001b[0;34m(self)\u001b[0m\n\u001b[1;32m    160\u001b[0m \u001b[0;34m\u001b[0m\u001b[0m\n\u001b[1;32m    161\u001b[0m                 \u001b[0;31m# remove unwanted columns from the data (but keep ENGEL column)\u001b[0m\u001b[0;34m\u001b[0m\u001b[0;34m\u001b[0m\u001b[0;34m\u001b[0m\u001b[0m\n\u001b[0;32m--> 162\u001b[0;31m                 \u001b[0mself\u001b[0m\u001b[0;34m.\u001b[0m\u001b[0mremove_columns\u001b[0m\u001b[0;34m.\u001b[0m\u001b[0mremove\u001b[0m\u001b[0;34m(\u001b[0m \u001b[0;34m\"ENGEL\"\u001b[0m \u001b[0;34m)\u001b[0m\u001b[0;34m\u001b[0m\u001b[0;34m\u001b[0m\u001b[0m\n\u001b[0m\u001b[1;32m    163\u001b[0m                 \u001b[0mself\u001b[0m\u001b[0;34m.\u001b[0m\u001b[0mdframe\u001b[0m\u001b[0;34m.\u001b[0m\u001b[0mdrop\u001b[0m\u001b[0;34m(\u001b[0m \u001b[0mcolumns\u001b[0m\u001b[0;34m=\u001b[0m\u001b[0mself\u001b[0m\u001b[0;34m.\u001b[0m\u001b[0mremove_columns\u001b[0m\u001b[0;34m,\u001b[0m \u001b[0maxis\u001b[0m\u001b[0;34m=\u001b[0m\u001b[0;36m1\u001b[0m\u001b[0;34m,\u001b[0m \u001b[0minplace\u001b[0m\u001b[0;34m=\u001b[0m\u001b[0;32mTrue\u001b[0m \u001b[0;34m)\u001b[0m\u001b[0;34m\u001b[0m\u001b[0;34m\u001b[0m\u001b[0m\n\u001b[1;32m    164\u001b[0m \u001b[0;34m\u001b[0m\u001b[0m\n",
      "\u001b[0;31mValueError\u001b[0m: list.remove(x): x not in list"
     ]
    }
   ],
   "source": [
    "data = data.parse_engel()"
   ]
  },
  {
   "cell_type": "markdown",
   "metadata": {},
   "source": [
    "# Partition the data \n",
    "------------------------------------------------------------------------------\n",
    "+ __prm == 1__ := *random shuffle train data labels by permutating*  \n",
    "+ data.partition := splits the data and target data into training set and test set (training : 0.75 rate test:0.25 rate) [Spliting Data Tutorial](https://scikit-learn.org/stable/modules/generated/sklearn.model_selection.train_test_split.html)"
   ]
  },
  {
   "cell_type": "code",
   "execution_count": 5,
   "metadata": {
    "scrolled": true
   },
   "outputs": [
    {
     "name": "stderr",
     "output_type": "stream",
     "text": [
      "/Users/kyuyeon/opt/anaconda3/lib/python3.8/site-packages/pandas/core/frame.py:2963: SettingWithCopyWarning: \n",
      "A value is trying to be set on a copy of a slice from a DataFrame.\n",
      "Try using .loc[row_indexer,col_indexer] = value instead\n",
      "\n",
      "See the caveats in the documentation: https://pandas.pydata.org/pandas-docs/stable/user_guide/indexing.html#returning-a-view-versus-a-copy\n",
      "  self[k1] = value[k2]\n",
      "/Users/kyuyeon/Desktop/kyu/Research_Kyu/enigma_data.py:106: SettingWithCopyWarning: \n",
      "A value is trying to be set on a copy of a slice from a DataFrame.\n",
      "Try using .loc[row_indexer,col_indexer] = value instead\n",
      "\n",
      "See the caveats in the documentation: https://pandas.pydata.org/pandas-docs/stable/user_guide/indexing.html#returning-a-view-versus-a-copy\n",
      "  train[\"Site\"] = train[\"Site\"].astype(int)\n",
      "/Users/kyuyeon/Desktop/kyu/Research_Kyu/enigma_data.py:107: SettingWithCopyWarning: \n",
      "A value is trying to be set on a copy of a slice from a DataFrame.\n",
      "Try using .loc[row_indexer,col_indexer] = value instead\n",
      "\n",
      "See the caveats in the documentation: https://pandas.pydata.org/pandas-docs/stable/user_guide/indexing.html#returning-a-view-versus-a-copy\n",
      "  train[self.predict] = train[self.predict].astype(int)\n"
     ]
    }
   ],
   "source": [
    "ttv_dict = data.partition( perm_train_labels=bool( mf.prm ) )\n",
    "\n",
    "covars_Site = pd.DataFrame(ttv_dict[\"Covars_train\"][\"Site\"])\n",
    "covars_Sex = pd.DataFrame(ttv_dict[\"Covars_train\"][\"Sex\"])\n",
    "covars_Age = pd.DataFrame(ttv_dict[\"Covars_train\"][\"Age\"])"
   ]
  },
  {
   "cell_type": "markdown",
   "metadata": {},
   "source": [
    "# Define the pipeline, cross-validation, and scoring metrics\n",
    "-------------------------------------------------------------------------------------------\n",
    "+ scoring := evaluating as __*accuracy*__ named as \"Accuracy\"\n",
    "+ kfold := [StratifiedKFold](https://scikit-learn.org/stable/modules/generated/sklearn.model_selection.StratifiedKFold.html) __*uniformly distributes*__ labels into test and training data K times\n",
    "+ factory := Define a __*model factory*__ object\n",
    "- scaler_model := building [MinMaxScaler](https://scikit-learn.org/stable/modules/generated/sklearn.preprocessing.MinMaxScaler.html) scaler model\n",
    "- imbalance_model := overcoming imbalanced data by __*oversampling*__\n"
   ]
  },
  {
   "cell_type": "code",
   "execution_count": 6,
   "metadata": {},
   "outputs": [],
   "source": [
    "scoring = {\"Accuracy\": \"accuracy\"}\n",
    "kfold = StratifiedKFold( n_splits=constants.CV_FOLDS, shuffle=True)\n",
    "factory = Model_Factory()\n",
    "\n",
    "scaler_model = factory.build( model_type=constants.MODELS.SCALER )\n",
    "imbalance_model = factory.build( model_type=constants.MODELS.IMBALANCE )\n",
    "neurocombat_model = factory.build( model_type=constants.MODELS.NEUROCOMBAT, data=data,sites= covars_Site, discrete_covariates=covars_Sex,continuous_covariates=covars_Age)\n",
    "\n",
    "column_trans = ColumnTransformer(\n",
    "     [('scaler', scaler_model,ttv_dict[\"X_train\"].columns.values[0:-1])],\n",
    "         remainder='passthrough')"
   ]
  },
  {
   "cell_type": "markdown",
   "metadata": {},
   "source": [
    "# Performing grid search to find the optimal parameter for each ML model\n",
    "#### Error occurs by perfomring grid search with permutated class labels (prm ==1)\n",
    "---------------------------------------------------------------------------------------\n",
    "### Run this Cell For SV model\n",
    "+ Building a __Support Vector Machine Model__ for *Grid-Search*"
   ]
  },
  {
   "cell_type": "code",
   "execution_count": 7,
   "metadata": {},
   "outputs": [],
   "source": [
    "cls_model = factory.build( model_type=constants.MODELS.SV_CLASSIFY, C=1.0, max_iter=10000 )"
   ]
  },
  {
   "cell_type": "markdown",
   "metadata": {},
   "source": [
    "### Run this Cell For DL model\n",
    "+ Building a __Deep Learning Model__ for *Grid_Search*"
   ]
  },
  {
   "cell_type": "code",
   "execution_count": null,
   "metadata": {},
   "outputs": [],
   "source": [
    "cls_model = factory.build( model_type=constants.MODELS.DL_CLASSIFY, input_dimension=ttv_dict['X_train'].shape[1],\n",
    "                          checkpoint_folder=mf.chpt_folder, checkpoint_file=\"{val_accuracy:.5f}.hdf5\", \n",
    "                          learn_rate=0.1, epochs=150, batch_size=20, verbose=0 )"
   ]
  },
  {
   "cell_type": "markdown",
   "metadata": {},
   "source": [
    "### Grid Search with Machine Learning Model (SV or DL)\n",
    "+ [Pipeline](https://scikit-learn.org/stable/modules/generated/sklearn.pipeline.Pipeline.html) := The purpose of the pipeline is to assemble several steps that can be cross-validated together while setting different parameters. \n",
    "+ [GridSearchCV](https://scikit-learn.org/stable/modules/generated/sklearn.model_selection.GridSearchCV.html) := Process of finding the optimal parameter for given classifier model"
   ]
  },
  {
   "cell_type": "code",
   "execution_count": 8,
   "metadata": {
    "scrolled": false
   },
   "outputs": [
    {
     "name": "stdout",
     "output_type": "stream",
     "text": [
      "Fitting 10 folds for each of 9 candidates, totalling 90 fits\n",
      "[CV] classifier__C=0.1 ...............................................\n",
      "[CV] ................ classifier__C=0.1, Accuracy=0.640, total=   0.1s\n",
      "[CV] classifier__C=0.1 ...............................................\n",
      "[CV] ................ classifier__C=0.1, Accuracy=0.560, total=   0.0s\n",
      "[CV] classifier__C=0.1 ...............................................\n",
      "[CV] ................ classifier__C=0.1, Accuracy=0.600, total=   0.0s\n",
      "[CV] classifier__C=0.1 ...............................................\n",
      "[CV] ................ classifier__C=0.1, Accuracy=0.720, total=   0.0s\n",
      "[CV] classifier__C=0.1 ...............................................\n"
     ]
    },
    {
     "name": "stderr",
     "output_type": "stream",
     "text": [
      "[Parallel(n_jobs=1)]: Using backend SequentialBackend with 1 concurrent workers.\n",
      "[Parallel(n_jobs=1)]: Done   1 out of   1 | elapsed:    0.1s remaining:    0.0s\n",
      "[Parallel(n_jobs=1)]: Done   2 out of   2 | elapsed:    0.1s remaining:    0.0s\n",
      "[Parallel(n_jobs=1)]: Done   3 out of   3 | elapsed:    0.2s remaining:    0.0s\n",
      "[Parallel(n_jobs=1)]: Done   4 out of   4 | elapsed:    0.2s remaining:    0.0s\n"
     ]
    },
    {
     "name": "stdout",
     "output_type": "stream",
     "text": [
      "[CV] ................ classifier__C=0.1, Accuracy=0.760, total=   0.0s\n",
      "[CV] classifier__C=0.1 ...............................................\n",
      "[CV] ................ classifier__C=0.1, Accuracy=0.760, total=   0.0s\n",
      "[CV] classifier__C=0.1 ...............................................\n",
      "[CV] ................ classifier__C=0.1, Accuracy=0.720, total=   0.0s\n",
      "[CV] classifier__C=0.1 ...............................................\n",
      "[CV] ................ classifier__C=0.1, Accuracy=0.480, total=   0.0s\n",
      "[CV] classifier__C=0.1 ...............................................\n",
      "[CV] ................ classifier__C=0.1, Accuracy=0.720, total=   0.0s\n",
      "[CV] classifier__C=0.1 ...............................................\n"
     ]
    },
    {
     "name": "stderr",
     "output_type": "stream",
     "text": [
      "[Parallel(n_jobs=1)]: Done   5 out of   5 | elapsed:    0.3s remaining:    0.0s\n",
      "[Parallel(n_jobs=1)]: Done   6 out of   6 | elapsed:    0.3s remaining:    0.0s\n",
      "[Parallel(n_jobs=1)]: Done   7 out of   7 | elapsed:    0.3s remaining:    0.0s\n",
      "[Parallel(n_jobs=1)]: Done   8 out of   8 | elapsed:    0.4s remaining:    0.0s\n",
      "[Parallel(n_jobs=1)]: Done   9 out of   9 | elapsed:    0.4s remaining:    0.0s\n"
     ]
    },
    {
     "name": "stdout",
     "output_type": "stream",
     "text": [
      "[CV] ................ classifier__C=0.1, Accuracy=0.750, total=   0.0s\n",
      "[CV] classifier__C=0.25 ..............................................\n",
      "[CV] ............... classifier__C=0.25, Accuracy=0.680, total=   0.1s\n",
      "[CV] classifier__C=0.25 ..............................................\n",
      "[CV] ............... classifier__C=0.25, Accuracy=0.720, total=   0.0s\n",
      "[CV] classifier__C=0.25 ..............................................\n",
      "[CV] ............... classifier__C=0.25, Accuracy=0.720, total=   0.1s\n",
      "[CV] classifier__C=0.25 ..............................................\n",
      "[CV] ............... classifier__C=0.25, Accuracy=0.720, total=   0.1s\n",
      "[CV] classifier__C=0.25 ..............................................\n",
      "[CV] ............... classifier__C=0.25, Accuracy=0.720, total=   0.1s\n",
      "[CV] classifier__C=0.25 ..............................................\n",
      "[CV] ............... classifier__C=0.25, Accuracy=0.800, total=   0.0s\n",
      "[CV] classifier__C=0.25 ..............................................\n",
      "[CV] ............... classifier__C=0.25, Accuracy=0.680, total=   0.0s\n",
      "[CV] classifier__C=0.25 ..............................................\n",
      "[CV] ............... classifier__C=0.25, Accuracy=0.480, total=   0.0s\n",
      "[CV] classifier__C=0.25 ..............................................\n",
      "[CV] ............... classifier__C=0.25, Accuracy=0.680, total=   0.1s\n",
      "[CV] classifier__C=0.25 ..............................................\n",
      "[CV] ............... classifier__C=0.25, Accuracy=0.750, total=   0.0s\n",
      "[CV] classifier__C=0.5 ...............................................\n",
      "[CV] ................ classifier__C=0.5, Accuracy=0.680, total=   0.1s\n",
      "[CV] classifier__C=0.5 ...............................................\n",
      "[CV] ................ classifier__C=0.5, Accuracy=0.680, total=   0.1s\n",
      "[CV] classifier__C=0.5 ...............................................\n",
      "[CV] ................ classifier__C=0.5, Accuracy=0.720, total=   0.1s\n",
      "[CV] classifier__C=0.5 ...............................................\n",
      "[CV] ................ classifier__C=0.5, Accuracy=0.720, total=   0.1s\n",
      "[CV] classifier__C=0.5 ...............................................\n",
      "[CV] ................ classifier__C=0.5, Accuracy=0.720, total=   0.1s\n",
      "[CV] classifier__C=0.5 ...............................................\n",
      "[CV] ................ classifier__C=0.5, Accuracy=0.760, total=   0.1s\n",
      "[CV] classifier__C=0.5 ...............................................\n",
      "[CV] ................ classifier__C=0.5, Accuracy=0.560, total=   0.1s\n",
      "[CV] classifier__C=0.5 ...............................................\n",
      "[CV] ................ classifier__C=0.5, Accuracy=0.520, total=   0.1s\n",
      "[CV] classifier__C=0.5 ...............................................\n",
      "[CV] ................ classifier__C=0.5, Accuracy=0.680, total=   0.1s\n",
      "[CV] classifier__C=0.5 ...............................................\n",
      "[CV] ................ classifier__C=0.5, Accuracy=0.750, total=   0.1s\n",
      "[CV] classifier__C=0.7 ...............................................\n",
      "[CV] ................ classifier__C=0.7, Accuracy=0.640, total=   0.1s\n",
      "[CV] classifier__C=0.7 ...............................................\n",
      "[CV] ................ classifier__C=0.7, Accuracy=0.720, total=   0.1s\n",
      "[CV] classifier__C=0.7 ...............................................\n",
      "[CV] ................ classifier__C=0.7, Accuracy=0.680, total=   0.1s\n",
      "[CV] classifier__C=0.7 ...............................................\n",
      "[CV] ................ classifier__C=0.7, Accuracy=0.720, total=   0.1s\n",
      "[CV] classifier__C=0.7 ...............................................\n",
      "[CV] ................ classifier__C=0.7, Accuracy=0.680, total=   0.1s\n",
      "[CV] classifier__C=0.7 ...............................................\n",
      "[CV] ................ classifier__C=0.7, Accuracy=0.720, total=   0.1s\n",
      "[CV] classifier__C=0.7 ...............................................\n",
      "[CV] ................ classifier__C=0.7, Accuracy=0.560, total=   0.1s\n",
      "[CV] classifier__C=0.7 ...............................................\n",
      "[CV] ................ classifier__C=0.7, Accuracy=0.520, total=   0.1s\n",
      "[CV] classifier__C=0.7 ...............................................\n",
      "[CV] ................ classifier__C=0.7, Accuracy=0.720, total=   0.1s\n",
      "[CV] classifier__C=0.7 ...............................................\n",
      "[CV] ................ classifier__C=0.7, Accuracy=0.750, total=   0.1s\n",
      "[CV] classifier__C=0.9 ...............................................\n",
      "[CV] ................ classifier__C=0.9, Accuracy=0.640, total=   0.1s\n",
      "[CV] classifier__C=0.9 ...............................................\n",
      "[CV] ................ classifier__C=0.9, Accuracy=0.720, total=   0.1s\n",
      "[CV] classifier__C=0.9 ...............................................\n",
      "[CV] ................ classifier__C=0.9, Accuracy=0.680, total=   0.1s\n",
      "[CV] classifier__C=0.9 ...............................................\n",
      "[CV] ................ classifier__C=0.9, Accuracy=0.680, total=   0.1s\n",
      "[CV] classifier__C=0.9 ...............................................\n",
      "[CV] ................ classifier__C=0.9, Accuracy=0.680, total=   0.1s\n",
      "[CV] classifier__C=0.9 ...............................................\n",
      "[CV] ................ classifier__C=0.9, Accuracy=0.720, total=   0.1s\n",
      "[CV] classifier__C=0.9 ...............................................\n",
      "[CV] ................ classifier__C=0.9, Accuracy=0.560, total=   0.1s\n",
      "[CV] classifier__C=0.9 ...............................................\n",
      "[CV] ................ classifier__C=0.9, Accuracy=0.520, total=   0.1s\n",
      "[CV] classifier__C=0.9 ...............................................\n",
      "[CV] ................ classifier__C=0.9, Accuracy=0.720, total=   0.1s\n",
      "[CV] classifier__C=0.9 ...............................................\n",
      "[CV] ................ classifier__C=0.9, Accuracy=0.792, total=   0.1s\n",
      "[CV] classifier__C=1.0 ...............................................\n",
      "[CV] ................ classifier__C=1.0, Accuracy=0.600, total=   0.1s\n",
      "[CV] classifier__C=1.0 ...............................................\n",
      "[CV] ................ classifier__C=1.0, Accuracy=0.720, total=   0.1s\n",
      "[CV] classifier__C=1.0 ...............................................\n",
      "[CV] ................ classifier__C=1.0, Accuracy=0.680, total=   0.1s\n",
      "[CV] classifier__C=1.0 ...............................................\n",
      "[CV] ................ classifier__C=1.0, Accuracy=0.680, total=   0.1s\n",
      "[CV] classifier__C=1.0 ...............................................\n",
      "[CV] ................ classifier__C=1.0, Accuracy=0.680, total=   0.1s\n",
      "[CV] classifier__C=1.0 ...............................................\n",
      "[CV] ................ classifier__C=1.0, Accuracy=0.720, total=   0.1s\n",
      "[CV] classifier__C=1.0 ...............................................\n",
      "[CV] ................ classifier__C=1.0, Accuracy=0.560, total=   0.1s\n",
      "[CV] classifier__C=1.0 ...............................................\n",
      "[CV] ................ classifier__C=1.0, Accuracy=0.520, total=   0.1s\n",
      "[CV] classifier__C=1.0 ...............................................\n",
      "[CV] ................ classifier__C=1.0, Accuracy=0.720, total=   0.1s\n",
      "[CV] classifier__C=1.0 ...............................................\n",
      "[CV] ................ classifier__C=1.0, Accuracy=0.792, total=   0.1s\n",
      "[CV] classifier__C=1.1 ...............................................\n",
      "[CV] ................ classifier__C=1.1, Accuracy=0.600, total=   0.1s\n",
      "[CV] classifier__C=1.1 ...............................................\n",
      "[CV] ................ classifier__C=1.1, Accuracy=0.720, total=   0.1s\n",
      "[CV] classifier__C=1.1 ...............................................\n",
      "[CV] ................ classifier__C=1.1, Accuracy=0.680, total=   0.1s\n",
      "[CV] classifier__C=1.1 ...............................................\n",
      "[CV] ................ classifier__C=1.1, Accuracy=0.680, total=   0.1s\n",
      "[CV] classifier__C=1.1 ...............................................\n",
      "[CV] ................ classifier__C=1.1, Accuracy=0.680, total=   0.1s\n",
      "[CV] classifier__C=1.1 ...............................................\n",
      "[CV] ................ classifier__C=1.1, Accuracy=0.720, total=   0.1s\n",
      "[CV] classifier__C=1.1 ...............................................\n",
      "[CV] ................ classifier__C=1.1, Accuracy=0.560, total=   0.1s\n",
      "[CV] classifier__C=1.1 ...............................................\n"
     ]
    },
    {
     "name": "stdout",
     "output_type": "stream",
     "text": [
      "[CV] ................ classifier__C=1.1, Accuracy=0.520, total=   0.1s\n",
      "[CV] classifier__C=1.1 ...............................................\n",
      "[CV] ................ classifier__C=1.1, Accuracy=0.680, total=   0.1s\n",
      "[CV] classifier__C=1.1 ...............................................\n",
      "[CV] ................ classifier__C=1.1, Accuracy=0.792, total=   0.2s\n",
      "[CV] classifier__C=1.5 ...............................................\n",
      "[CV] ................ classifier__C=1.5, Accuracy=0.600, total=   0.2s\n",
      "[CV] classifier__C=1.5 ...............................................\n",
      "[CV] ................ classifier__C=1.5, Accuracy=0.720, total=   0.2s\n",
      "[CV] classifier__C=1.5 ...............................................\n",
      "[CV] ................ classifier__C=1.5, Accuracy=0.680, total=   0.1s\n",
      "[CV] classifier__C=1.5 ...............................................\n",
      "[CV] ................ classifier__C=1.5, Accuracy=0.680, total=   0.2s\n",
      "[CV] classifier__C=1.5 ...............................................\n",
      "[CV] ................ classifier__C=1.5, Accuracy=0.640, total=   0.1s\n",
      "[CV] classifier__C=1.5 ...............................................\n",
      "[CV] ................ classifier__C=1.5, Accuracy=0.720, total=   0.1s\n",
      "[CV] classifier__C=1.5 ...............................................\n",
      "[CV] ................ classifier__C=1.5, Accuracy=0.600, total=   0.2s\n",
      "[CV] classifier__C=1.5 ...............................................\n",
      "[CV] ................ classifier__C=1.5, Accuracy=0.480, total=   0.2s\n",
      "[CV] classifier__C=1.5 ...............................................\n",
      "[CV] ................ classifier__C=1.5, Accuracy=0.680, total=   0.1s\n",
      "[CV] classifier__C=1.5 ...............................................\n",
      "[CV] ................ classifier__C=1.5, Accuracy=0.792, total=   0.1s\n",
      "[CV] classifier__C=2.0 ...............................................\n",
      "[CV] ................ classifier__C=2.0, Accuracy=0.600, total=   0.1s\n",
      "[CV] classifier__C=2.0 ...............................................\n",
      "[CV] ................ classifier__C=2.0, Accuracy=0.760, total=   0.1s\n",
      "[CV] classifier__C=2.0 ...............................................\n",
      "[CV] ................ classifier__C=2.0, Accuracy=0.680, total=   0.2s\n",
      "[CV] classifier__C=2.0 ...............................................\n",
      "[CV] ................ classifier__C=2.0, Accuracy=0.600, total=   0.2s\n",
      "[CV] classifier__C=2.0 ...............................................\n",
      "[CV] ................ classifier__C=2.0, Accuracy=0.640, total=   0.2s\n",
      "[CV] classifier__C=2.0 ...............................................\n",
      "[CV] ................ classifier__C=2.0, Accuracy=0.720, total=   0.1s\n",
      "[CV] classifier__C=2.0 ...............................................\n",
      "[CV] ................ classifier__C=2.0, Accuracy=0.600, total=   0.1s\n",
      "[CV] classifier__C=2.0 ...............................................\n",
      "[CV] ................ classifier__C=2.0, Accuracy=0.440, total=   0.2s\n",
      "[CV] classifier__C=2.0 ...............................................\n",
      "[CV] ................ classifier__C=2.0, Accuracy=0.680, total=   0.1s\n",
      "[CV] classifier__C=2.0 ...............................................\n",
      "[CV] ................ classifier__C=2.0, Accuracy=0.792, total=   0.2s\n"
     ]
    },
    {
     "name": "stderr",
     "output_type": "stream",
     "text": [
      "[Parallel(n_jobs=1)]: Done  90 out of  90 | elapsed:    8.6s finished\n"
     ]
    }
   ],
   "source": [
    "pipeline = Pipeline( [('scaler', column_trans ), ('neurocombat', neurocombat_model), ('classifier', cls_model ) ], memory=None )\n",
    "\n",
    "grid = GridSearchCV( estimator=pipeline, param_grid=cls_model.get_grid_dict(), cv=kfold, scoring=scoring, refit=\"Accuracy\", verbose=10 )\n",
    "\n",
    "\n",
    "grid_result = grid.fit( ttv_dict['X_train'],ttv_dict['Y_train'])\n",
    "\n",
    "gdr_dict = grid_search.GridSearch( cls_model, grid_result ).gdr_dict"
   ]
  },
  {
   "cell_type": "markdown",
   "metadata": {},
   "source": [
    "### Dump gdr_dict into grid_result_file\n",
    "--------------------------------------------------------\n",
    "+ grid_result_file stores the optimal parameters from grid search with cross validation\n",
    "+ __gdr_dict__ := storing the optimal parameters from grid searching"
   ]
  },
  {
   "cell_type": "code",
   "execution_count": 9,
   "metadata": {},
   "outputs": [
    {
     "data": {
      "text/plain": [
       "0.695"
      ]
     },
     "execution_count": 9,
     "metadata": {},
     "output_type": "execute_result"
    }
   ],
   "source": [
    "grid.best_score_          "
   ]
  },
  {
   "cell_type": "code",
   "execution_count": null,
   "metadata": {},
   "outputs": [],
   "source": [
    "dump( gdr_dict, mf.grid_result_file ) \n",
    "\n",
    "load ( mf.grid_result_file )"
   ]
  },
  {
   "cell_type": "markdown",
   "metadata": {},
   "source": [
    "# Performing cross-validation when optimal parameters already exists\n",
    "--------------------------------------------------------------------------------------\n",
    "### Load an existing file storing the optimal parameter"
   ]
  },
  {
   "cell_type": "code",
   "execution_count": null,
   "metadata": {},
   "outputs": [],
   "source": [
    "gdr_dict = load( mf.grid_result_file )"
   ]
  },
  {
   "cell_type": "markdown",
   "metadata": {},
   "source": [
    "### Run this cell for SV model\n",
    "+ Building a __Support Vector Machine Model__ for *Cross-Validation*"
   ]
  },
  {
   "cell_type": "code",
   "execution_count": null,
   "metadata": {},
   "outputs": [],
   "source": [
    "cls_model = factory.build( model_type=constants.MODELS.SV_CLASSIFY, C=gdr_dict['classifier__C'], max_iter=10000 )"
   ]
  },
  {
   "cell_type": "markdown",
   "metadata": {},
   "source": [
    "### Run this cell for DL model\n",
    "+ Building a __Deep Learning Model__ for *Cross-Validation*"
   ]
  },
  {
   "cell_type": "code",
   "execution_count": null,
   "metadata": {
    "scrolled": true
   },
   "outputs": [],
   "source": [
    "cls_model = factory.build( model_type=constants.MODELS.DL_CLASSIFY, input_dimension=ttv_dict['X_train'].shape[1], checkpoint_folder=mf.chpt_folder, checkpoint_file=\"{val_accuracy:.5f}.hdf5\", learn_rate=gdr_dict['classifier__learn_rate'], hidden_units_L1=gdr_dict['classifier__hidden_units_L1'], hidden_units_L2=gdr_dict['classifier__hidden_units_L2'], l2_reg_penalty=gdr_dict['classifier__l2_reg_penalty'], drop_out_rate=gdr_dict['classifier__drop_out_rate'], epochs=gdr_dict['classifier__epochs'], batch_size=20, verbose=0 )"
   ]
  },
  {
   "cell_type": "markdown",
   "metadata": {},
   "source": [
    "### Cross-Validation with Machine Learning Model (SV or DL)\n",
    "+ [Pipeline](https://scikit-learn.org/stable/modules/generated/sklearn.pipeline.Pipeline.html) := The purpose of the pipeline is to assemble several steps that can be cross-validated together while setting different parameters. \n",
    "+ [cross_validate](https://scikit-learn.org/stable/modules/generated/sklearn.model_selection.cross_validate.html) := performing cross validation kfold times based on classifider model that defined on Pipeline function."
   ]
  },
  {
   "cell_type": "code",
   "execution_count": null,
   "metadata": {},
   "outputs": [],
   "source": [
    "pipeline = Pipeline( [ ('scaler', column_trans ),('neurocombat',neurocombat_model ),('classifier', cls_model ) ], memory=None )\n",
    "\n",
    "cv_result = cross_validate( pipeline, ttv_dict['X_train'], ttv_dict['Y_train'], cv=kfold, scoring=scoring, return_estimator=True, verbose=2 )\n",
    "\n",
    "result_dict = {}\n",
    "\n",
    "result_dict['features'] = ttv_dict['X_train'].columns\n",
    "\n",
    "result_dict[\"iteration\"] = cross_validation.CrossValidation(ttv_dict, cv_result, constants.CV_FOLDS).iteration\n",
    "\n",
    "dump( result_dict, mf.arch_file )  "
   ]
  }
 ],
 "metadata": {
  "kernelspec": {
   "display_name": "Python 3",
   "language": "python",
   "name": "python3"
  },
  "language_info": {
   "codemirror_mode": {
    "name": "ipython",
    "version": 3
   },
   "file_extension": ".py",
   "mimetype": "text/x-python",
   "name": "python",
   "nbconvert_exporter": "python",
   "pygments_lexer": "ipython3",
   "version": "3.8.3"
  }
 },
 "nbformat": 4,
 "nbformat_minor": 4
}
